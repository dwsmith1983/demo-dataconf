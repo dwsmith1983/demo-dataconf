{
 "cells": [
  {
   "cell_type": "markdown",
   "id": "4f05e49a-89d2-43fb-9e7e-208753488ae5",
   "metadata": {},
   "source": [
    "# Config Parsing\n",
    "The json/yaml data was pulled from [here](https://www.cloudbees.com/blog/yaml-tutorial-everything-you-need-get-started). "
   ]
  },
  {
   "cell_type": "code",
   "execution_count": 1,
   "id": "385a4370-414e-4778-b529-9bb0483938e5",
   "metadata": {},
   "outputs": [],
   "source": [
    "from dataclasses import dataclass\n",
    "import dataconf\n",
    "import json\n",
    "import yaml\n",
    "try:\n",
    "    from yaml import CLoader as Loader, CDumper as Dumper\n",
    "except ImportError:\n",
    "    from yaml import Loader, Dumper\n",
    "    \n",
    "from typing import List, Text"
   ]
  },
  {
   "cell_type": "code",
   "execution_count": 2,
   "id": "b18d0467-3cca-481c-879f-5a95c4dd2a19",
   "metadata": {},
   "outputs": [],
   "source": [
    "json_str = \"\"\"\n",
    "{\n",
    "  \"doe\": \"a deer, a female deer\",\n",
    "  \"ray\": \"a drop of golden sun\",\n",
    "  \"pi\": 3.14159,\n",
    "  \"xmas\": true,\n",
    "  \"french_hens\": 3,\n",
    "  \"calling-birds\": [\n",
    "     \"huey\",\n",
    "     \"dewey\",\n",
    "     \"louie\",\n",
    "     \"fred\"\n",
    "  ],\n",
    "  \"xmas-fifth-day\": {\n",
    "  \"calling-birds\": \"four\",\n",
    "  \"french-hens\": 3,\n",
    "  \"golden-rings\": 5,\n",
    "  \"partridges\": {\n",
    "    \"count\": 1,\n",
    "    \"location\": \"a pear tree\"\n",
    "  },\n",
    "  \"turtle-doves\": \"two\"\n",
    "  }\n",
    "}\n",
    "\"\"\""
   ]
  },
  {
   "cell_type": "code",
   "execution_count": 3,
   "id": "3c063724-31b5-4934-ad62-fb30cbf3e46c",
   "metadata": {},
   "outputs": [
    {
     "data": {
      "text/plain": [
       "{'doe': 'a deer, a female deer',\n",
       " 'ray': 'a drop of golden sun',\n",
       " 'pi': 3.14159,\n",
       " 'xmas': True,\n",
       " 'french_hens': 3,\n",
       " 'calling-birds': ['huey', 'dewey', 'louie', 'fred'],\n",
       " 'xmas-fifth-day': {'calling-birds': 'four',\n",
       "  'french-hens': 3,\n",
       "  'golden-rings': 5,\n",
       "  'partridges': {'count': 1, 'location': 'a pear tree'},\n",
       "  'turtle-doves': 'two'}}"
      ]
     },
     "execution_count": 3,
     "metadata": {},
     "output_type": "execute_result"
    }
   ],
   "source": [
    "parsed_json = json.loads(json_str)\n",
    "parsed_json"
   ]
  },
  {
   "cell_type": "code",
   "execution_count": 4,
   "id": "2003d9ef-9030-4d2f-8ef0-09a6675564d6",
   "metadata": {},
   "outputs": [],
   "source": [
    "yaml_str = \"\"\"\n",
    "doe: 'a deer, a female deer'\n",
    "ray: a drop of golden sun\n",
    "pi: 3.14159\n",
    "xmas: true\n",
    "french_hens: 3\n",
    "calling-birds:\n",
    "  - huey\n",
    "  - dewey\n",
    "  - louie\n",
    "  - fred\n",
    "xmas-fifth-day:\n",
    "  calling-birds: four\n",
    "  french-hens: 3\n",
    "  golden-rings: 5\n",
    "  partridges:\n",
    "    count: 1\n",
    "    location: a pear tree\n",
    "  turtle-doves: two\n",
    "\n",
    "\"\"\""
   ]
  },
  {
   "cell_type": "code",
   "execution_count": 5,
   "id": "9e8df674-6e34-4c80-9abd-49bb99fd33d4",
   "metadata": {},
   "outputs": [
    {
     "data": {
      "text/plain": [
       "{'doe': 'a deer, a female deer',\n",
       " 'ray': 'a drop of golden sun',\n",
       " 'pi': 3.14159,\n",
       " 'xmas': True,\n",
       " 'french_hens': 3,\n",
       " 'calling-birds': ['huey', 'dewey', 'louie', 'fred'],\n",
       " 'xmas-fifth-day': {'calling-birds': 'four',\n",
       "  'french-hens': 3,\n",
       "  'golden-rings': 5,\n",
       "  'partridges': {'count': 1, 'location': 'a pear tree'},\n",
       "  'turtle-doves': 'two'}}"
      ]
     },
     "execution_count": 5,
     "metadata": {},
     "output_type": "execute_result"
    }
   ],
   "source": [
    "parsed_yaml = yaml.load(yaml_str, Loader=Loader)\n",
    "parsed_yaml"
   ]
  },
  {
   "cell_type": "code",
   "execution_count": 6,
   "id": "6f8a4a14-761f-46ff-8a8c-e60b9c3b09ae",
   "metadata": {},
   "outputs": [],
   "source": [
    "hocon_str = \"\"\"\n",
    "{\n",
    "    doe: \"a deer, a female deer\"\n",
    "    ray: \"a drop of golden sun\"\n",
    "    pi: 3.14159\n",
    "    xmas: true\n",
    "    french-hens: 3\n",
    "    calling-birds: [huey, dewey, louie, fred]\n",
    "    xmas-fifth-day {\n",
    "        calling_birds: four\n",
    "        french-hens: 3\n",
    "        golden-rings: 5\n",
    "        partridges {\n",
    "            count: 1\n",
    "            location: \"a pear tree\"\n",
    "        }\n",
    "        turtle_doves: two\n",
    "    }\n",
    "}\n",
    "\"\"\"\n",
    "\n",
    "@dataclass\n",
    "class Bird:\n",
    "    count: int\n",
    "    location: Text\n",
    "\n",
    "@dataclass\n",
    "class Xmas:\n",
    "    calling_birds: Text\n",
    "    french_hens: int\n",
    "    golden_rings: int\n",
    "    partridges: Bird\n",
    "    turtle_doves: Text\n",
    "\n",
    "@dataclass\n",
    "class Data:\n",
    "    doe: Text\n",
    "    ray: Text\n",
    "    pi: float\n",
    "    xmas: bool\n",
    "    french_hens: int\n",
    "    calling_birds: List[Text]\n",
    "    xmas_fifth_day: Xmas\n",
    "\n",
    "conf = dataconf.loads(hocon_str, Data)\n",
    "\n",
    "assert conf == Data(\n",
    "    doe=\"a deer, a female deer\",\n",
    "    ray=\"a drop of golden sun\",\n",
    "    pi=3.14159,\n",
    "    xmas=True,\n",
    "    french_hens=3,\n",
    "    calling_birds=[\"huey\", \"dewey\", \"louie\", \"fred\"],\n",
    "    xmas_fifth_day=Xmas(\n",
    "        calling_birds=\"four\",\n",
    "        french_hens=3,\n",
    "        golden_rings=5,\n",
    "        partridges=Bird(\n",
    "            count=1,\n",
    "            location=\"a pear tree\"\n",
    "        ),\n",
    "        turtle_doves=\"two\"\n",
    "    )\n",
    ")"
   ]
  },
  {
   "cell_type": "code",
   "execution_count": 7,
   "id": "7996efeb-a75f-4011-82ce-a9014a0c4c4f",
   "metadata": {},
   "outputs": [
    {
     "data": {
      "text/plain": [
       "Data(doe='a deer, a female deer', ray='a drop of golden sun', pi=3.14159, xmas=True, french_hens=3, calling_birds=['huey', 'dewey', 'louie', 'fred'], xmas_fifth_day=Xmas(calling_birds='four', french_hens=3, golden_rings=5, partridges=Bird(count=1, location='a pear tree'), turtle_doves='two'))"
      ]
     },
     "execution_count": 7,
     "metadata": {},
     "output_type": "execute_result"
    }
   ],
   "source": [
    "conf"
   ]
  },
  {
   "cell_type": "code",
   "execution_count": null,
   "id": "4b4d7942-e1a5-4e8f-aa75-edd3157b79e1",
   "metadata": {},
   "outputs": [],
   "source": []
  }
 ],
 "metadata": {
  "kernelspec": {
   "display_name": "Python 3",
   "language": "python",
   "name": "python3"
  },
  "language_info": {
   "codemirror_mode": {
    "name": "ipython",
    "version": 3
   },
   "file_extension": ".py",
   "mimetype": "text/x-python",
   "name": "python",
   "nbconvert_exporter": "python",
   "pygments_lexer": "ipython3",
   "version": "3.8.11"
  }
 },
 "nbformat": 4,
 "nbformat_minor": 5
}
